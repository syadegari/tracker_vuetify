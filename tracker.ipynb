{
 "cells": [
  {
   "cell_type": "code",
   "execution_count": 1,
   "metadata": {},
   "outputs": [
    {
     "name": "stdout",
     "output_type": "stream",
     "text": [
      "Already up to date.\n"
     ]
    }
   ],
   "source": [
    "%%bash \n",
    "\n",
    "if [[ -d covid-19 ]]; then\n",
    "    cd covid-19\n",
    "    git pull\n",
    "    cd ..\n",
    "else\n",
    "    git clone https://github.com/datasets/covid-19\n",
    "fi\n",
    "\n",
    "# ls -lt covid-19"
   ]
  },
  {
   "cell_type": "code",
   "execution_count": 2,
   "metadata": {},
   "outputs": [],
   "source": [
    "%load_ext autoreload\n",
    "%autoreload 2\n",
    "\n",
    "import helpers\n",
    "import plots\n",
    "import ipywidgets\n",
    "import matplotlib.pyplot as plt\n",
    "\n",
    "import matplotlib"
   ]
  },
  {
   "cell_type": "code",
   "execution_count": 3,
   "metadata": {},
   "outputs": [],
   "source": [
    "data = helpers.prepare_data(max_num=100000)\n",
    "\n",
    "%matplotlib widget\n",
    "plts = plots.init(data)"
   ]
  },
  {
   "cell_type": "code",
   "execution_count": 5,
   "metadata": {},
   "outputs": [
    {
     "data": {
      "application/vnd.jupyter.widget-view+json": {
       "model_id": "303a1b23ba5f46f29b38e840a1fb0e44",
       "version_major": 2,
       "version_minor": 0
      },
      "text/plain": [
       "Layout(children=[Flex(children=[Select(items=['Germany', 'Italy', 'Spain', 'Brazil', 'Russia', 'United Kingdom…"
      ]
     },
     "metadata": {},
     "output_type": "display_data"
    }
   ],
   "source": [
    "import new_cases as nc\n",
    "\n",
    "nc.init(data, plts)\n",
    "nc.draw()"
   ]
  },
  {
   "cell_type": "code",
   "execution_count": null,
   "metadata": {},
   "outputs": [],
   "source": []
  }
 ],
 "metadata": {
  "kernelspec": {
   "display_name": "Python 3",
   "language": "python",
   "name": "python3"
  },
  "language_info": {
   "codemirror_mode": {
    "name": "ipython",
    "version": 3
   },
   "file_extension": ".py",
   "mimetype": "text/x-python",
   "name": "python",
   "nbconvert_exporter": "python",
   "pygments_lexer": "ipython3",
   "version": "3.8.2"
  }
 },
 "nbformat": 4,
 "nbformat_minor": 4
}
